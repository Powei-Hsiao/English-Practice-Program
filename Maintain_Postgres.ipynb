{
 "cells": [
  {
   "cell_type": "code",
   "execution_count": 1,
   "metadata": {},
   "outputs": [
    {
     "name": "stdout",
     "output_type": "stream",
     "text": [
      "[('record_no', 'integer'), ('user_id', 'character varying'), ('ans', 'character varying'), ('exam', 'character varying'), ('level', 'integer'), ('exp', 'integer'), ('hp', 'integer'), ('exam_flag', 'boolean'), ('coin', 'integer'), ('ans_flag', 'boolean'), ('my_vocab', 'text'), ('review_flag', 'boolean'), ('review_mode', 'character'), ('review_mode_flag', 'boolean'), ('review_num', 'integer'), ('review_num_flag', 'boolean'), ('my_pass_vocab', 'text'), ('my_failure_vocab', 'text'), ('review_ans', 'character varying')]\n"
     ]
    }
   ],
   "source": [
    "#check colume and type\n",
    "\n",
    "import os\n",
    "import psycopg2\n",
    "\n",
    "DATABASE_URL = os.popen('heroku config:get DATABASE_URL -a evantesttool').read()[:-1]\n",
    "\n",
    "conn = psycopg2.connect(DATABASE_URL, sslmode='require')\n",
    "cursor = conn.cursor()\n",
    "\n",
    "cmd = \"SELECT column_name, data_type FROM information_schema.columns WHERE table_name = 'ans_table'\"\n",
    "    \n",
    "cursor.execute(cmd)\n",
    "\n",
    "data = []\n",
    "while True:\n",
    "    temp = cursor.fetchone()\n",
    "    if temp:\n",
    "        data.append(temp)\n",
    "    else:\n",
    "        break\n",
    "print(data)\n",
    "\n"
   ]
  },
  {
   "cell_type": "code",
   "execution_count": 40,
   "metadata": {},
   "outputs": [],
   "source": [
    "#creat table\n",
    "DATABASE_URL = os.popen('heroku config:get DATABASE_URL -a evantesttool').read()[:-1]\n",
    "\n",
    "conn = psycopg2.connect(DATABASE_URL, sslmode='require')\n",
    "cursor = conn.cursor()\n",
    "\n",
    "create_table_query = '''CREATE TABLE ans_table(\n",
    "           record_no serial PRIMARY KEY,\n",
    "           user_id VARCHAR (50) NOT NULL,\n",
    "           ans VARCHAR (1) NOT NULL\n",
    "        );'''\n",
    "    \n",
    "cursor.execute(create_table_query)\n",
    "conn.commit()"
   ]
  },
  {
   "cell_type": "code",
   "execution_count": 2,
   "metadata": {},
   "outputs": [],
   "source": [
    "#modify table format\n",
    "DATABASE_URL = os.popen('heroku config:get DATABASE_URL -a evantesttool').read()[:-1]\n",
    "\n",
    "conn = psycopg2.connect(DATABASE_URL, sslmode='require')\n",
    "cursor = conn.cursor()\n",
    "\n",
    "modify_query = f'''ALTER TABLE ans_table ALTER COLUMN my_vocab TYPE VARCHAR(8000);'''\n",
    "    \n",
    "cursor.execute(modify_query)\n",
    "conn.commit()"
   ]
  },
  {
   "cell_type": "code",
   "execution_count": 24,
   "metadata": {},
   "outputs": [
    {
     "name": "stdout",
     "output_type": "stream",
     "text": [
      "1 Record inserted successfully into ans_table\n"
     ]
    }
   ],
   "source": [
    "#update table content or insert row\n",
    "user_id = 'U8f118085e8ec52badecac9edbe8e9bc9'\n",
    "\n",
    "DATABASE_URL = os.popen('heroku config:get DATABASE_URL -a evantesttool').read()[:-1]\n",
    "conn = psycopg2.connect(DATABASE_URL, sslmode='require')\n",
    "cursor = conn.cursor()\n",
    "\n",
    "#Insert user_id in postgres\n",
    "#table_columns = '(user_id, ans, exam, level, exp, hp, exam_flag, coin, ans_flag, my_vocab)' #All columns in postgres\n",
    "#postgres_insert_query = f\"\"\"UPDATE ans_table SET vocab = 'apple' WHERE user_id = '{user_id}';\"\"\"    \n",
    "#cursor.execute(postgres_insert_query)\n",
    "\n",
    "postgres_update_query = f\"\"\"UPDATE ans_table SET my_vocab = '' WHERE user_id = '{user_id}';\"\"\"    \n",
    "cursor.execute(postgres_update_query)\n",
    "\n",
    "\n",
    "conn.commit()\n",
    "count = cursor.rowcount\n",
    "print(count, \"Record inserted successfully into ans_table\")\n",
    "cursor.close()\n",
    "conn.close()"
   ]
  },
  {
   "cell_type": "code",
   "execution_count": 6,
   "metadata": {},
   "outputs": [
    {
     "name": "stdout",
     "output_type": "stream",
     "text": [
      "[(17, 'U8f118085e8ec52badecac9edbe8e9bc9', 'D', '學測', 1, 0, 0, False, 0, False, ';apple', False, 'b', False, 0, False, '', '', '')]\n"
     ]
    }
   ],
   "source": [
    "#check my row\n",
    "user_id = 'U8f118085e8ec52badecac9edbe8e9bc9'\n",
    "DATABASE_URL = os.popen('heroku config:get DATABASE_URL -a evantesttool').read()[:-1]\n",
    "\n",
    "conn = psycopg2.connect(DATABASE_URL, sslmode='require')\n",
    "cursor = conn.cursor()\n",
    "\n",
    "postgres_select_query = f\"\"\"SELECT * FROM ans_table WHERE user_id = '{user_id}';\"\"\"\n",
    "#postgres_select_query = f\"\"\"SELECT * FROM ans_table;\"\"\"\n",
    "cursor.execute(postgres_select_query)\n",
    "print(cursor.fetchall())"
   ]
  },
  {
   "cell_type": "code",
   "execution_count": 58,
   "metadata": {},
   "outputs": [],
   "source": [
    "'''DATABASE_URL = os.popen('heroku config:get DATABASE_URL -a evantesttool').read()[:-1]\n",
    "\n",
    "conn = psycopg2.connect(DATABASE_URL, sslmode='require')\n",
    "cursor = conn.cursor()\n",
    "\n",
    "delete_table_query = f\"\"\"DELETE FROM ans_table WHERE user_id='U8f118085e8ec52badecac9edbe8e9bc9';\"\"\"\n",
    "    \n",
    "cursor.execute(delete_table_query)\n",
    "conn.commit()\n"
   ]
  },
  {
   "cell_type": "code",
   "execution_count": 5,
   "metadata": {},
   "outputs": [
    {
     "data": {
      "text/plain": [
       "False"
      ]
     },
     "execution_count": 5,
     "metadata": {},
     "output_type": "execute_result"
    }
   ],
   "source": [
    "'!' == '!s'"
   ]
  },
  {
   "cell_type": "code",
   "execution_count": 15,
   "metadata": {},
   "outputs": [
    {
     "name": "stdout",
     "output_type": "stream",
     "text": [
      "[['Today the writer`s prodigious output of prose and poetry enjoys __________ notice, but in his lifetime his works commanded huge sales in Italy and abroad.'], ['limited', 'vigorous', 'occasional', 'sporadic', 'dutiful', 'lively'], ['occasional', 'sporadic']]\n"
     ]
    }
   ],
   "source": [
    "import json\n",
    "with open('C:/Users/User/Desktop/evantesttool/GRE.txt', 'r') as f:\n",
    "    result = json.load(f)\n",
    "    print(result[60])"
   ]
  },
  {
   "cell_type": "code",
   "execution_count": 7,
   "metadata": {},
   "outputs": [
    {
     "name": "stdout",
     "output_type": "stream",
     "text": [
      "['和，及，與，同；又；然後', 'They sang and danced all night. 他們通宵唱歌跳舞。', 'My mother and father have never agreed on this matter. 我父母在這件事情上從未意見一致過。', 'She went to the United States in 1960 and has lived there ever since. 她於1960年去了美國，此後就一直住在那裡。', 'You must stop, and at once, this sort of behavior. 你必須停止此類行為，而且必須立即停止。', \"Go straight on and you'll see a church. 一直走下去你便可以看到一座教堂。\", 'Vegetable oil is digestible and mineral oil is not. 植物油易消化而礦物油則不行。']\n"
     ]
    }
   ],
   "source": [
    "import json\n",
    "import requests\n",
    "from bs4 import BeautifulSoup\n",
    "import random\n",
    "\n",
    "def explain(word):\n",
    "    web = \"https://tw.dictionary.search.yahoo.com/search?p=%s\"%word\n",
    "    nl_response = requests.get(web)\n",
    "    soup = BeautifulSoup(nl_response.text, \"html.parser\")\n",
    "    content = soup.findAll(\"div\",{\"class\" : \"fz-16 fl-l dictionaryExplanation\"})\n",
    "    explainationList = []\n",
    "    for a in content:\n",
    "        tem = a.getText()\n",
    "        explainationList.append(tem)\n",
    "    return explainationList\n",
    "def sentence(word):\n",
    "    web = \"https://tw.dictionary.search.yahoo.com/search?p=%s\"%word\n",
    "    nl_response = requests.get(web)\n",
    "    soup = BeautifulSoup(nl_response.text, \"html.parser\")\n",
    "    content2 = soup.findAll(\"span\",{\"class\" : \"d-b fz-14 fc-2nd lh-20\"})\n",
    "    sentenceList = []\n",
    "    for a in content2:\n",
    "        tem2 = a.getText()\n",
    "        sentenceList.append(tem2)\n",
    "    return sentenceList\n",
    "\n",
    "\n",
    "word = 'and'\n",
    "result = []\n",
    "explainList = explain(word)\n",
    "sentenceList = sentence(word)\n",
    "for explain in explainList:\n",
    "    result.append(explain)\n",
    "for sentence in sentenceList:\n",
    "    result.append(sentence)\n",
    "print(result)"
   ]
  },
  {
   "cell_type": "code",
   "execution_count": 28,
   "metadata": {},
   "outputs": [
    {
     "name": "stdout",
     "output_type": "stream",
     "text": [
      "['']\n"
     ]
    }
   ],
   "source": [
    "a = ''\n",
    "a_l = a.split(' ')\n",
    "print(a_l)"
   ]
  },
  {
   "cell_type": "code",
   "execution_count": null,
   "metadata": {},
   "outputs": [],
   "source": []
  }
 ],
 "metadata": {
  "kernelspec": {
   "display_name": "Python 3",
   "language": "python",
   "name": "python3"
  },
  "language_info": {
   "codemirror_mode": {
    "name": "ipython",
    "version": 3
   },
   "file_extension": ".py",
   "mimetype": "text/x-python",
   "name": "python",
   "nbconvert_exporter": "python",
   "pygments_lexer": "ipython3",
   "version": "3.7.4"
  }
 },
 "nbformat": 4,
 "nbformat_minor": 4
}
